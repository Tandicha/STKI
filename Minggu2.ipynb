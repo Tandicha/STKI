{
 "cells": [
  {
   "cell_type": "code",
   "execution_count": null,
   "id": "7622abfa-c79b-4cc1-b5ac-0e7bcfcb513e",
   "metadata": {},
   "outputs": [],
   "source": [
    "import pandas as pd"
   ]
  },
  {
   "cell_type": "code",
   "execution_count": null,
   "id": "db455cc6-5032-44ff-9ff8-a0f338e46885",
   "metadata": {},
   "outputs": [],
   "source": [
    "df = pd.read_csv('1525132860000.detik-news.d0d7c1aa99.json')"
   ]
  },
  {
   "cell_type": "code",
   "execution_count": null,
   "id": "fd7cc78d-695f-4306-a8b8-9a9b9e21a206",
   "metadata": {},
   "outputs": [],
   "source": [
    "df.head()"
   ]
  },
  {
   "cell_type": "code",
   "execution_count": null,
   "id": "d7ba3485-bbe1-4287-80a7-4c527a3c6316",
   "metadata": {},
   "outputs": [],
   "source": [
    "df.info()"
   ]
  }
 ],
 "metadata": {
  "kernelspec": {
   "display_name": "Python 3 (ipykernel)",
   "language": "python",
   "name": "python3"
  },
  "language_info": {
   "codemirror_mode": {
    "name": "ipython",
    "version": 3
   },
   "file_extension": ".py",
   "mimetype": "text/x-python",
   "name": "python",
   "nbconvert_exporter": "python",
   "pygments_lexer": "ipython3",
   "version": "3.11.5"
  }
 },
 "nbformat": 4,
 "nbformat_minor": 5
}
